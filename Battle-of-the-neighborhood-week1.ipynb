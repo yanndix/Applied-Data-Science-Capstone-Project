{
  "metadata": {
    "language_info": {
      "mimetype": "text/x-python",
      "nbconvert_exporter": "python",
      "name": "python",
      "pygments_lexer": "ipython3",
      "version": "3.6.6",
      "file_extension": ".py",
      "codemirror_mode": {
        "version": 3,
        "name": "ipython"
      }
    },
    "kernelspec": {
      "name": "python36",
      "display_name": "Python 3.6",
      "language": "python"
    }
  },
  "nbformat_minor": 2,
  "nbformat": 4,
  "cells": [
    {
      "cell_type": "markdown",
      "source": "# Battle of Neighbourhoods - Week 1\nThis notebook consist of two parts.\n\n## 1 Introduction/Business Problem\n### 1.a Discussion of the business problem and the audience who would be interested in this project.\n## 2 Data Section\n### 2.a What data is used?\n### 2.b Importing Libraries\n### 2.c Credentials and Core location\n### 2.d Search for hotel & restaurant within 1 KM\n### 2.e Location of Hotels\n\n## 1. Introduction/Business Problem\n\n#### Discussion of the business problem and the audience who would be interested in this project. \n\nDouala  is the largest city in Cameroon (Central Africa) and its economic capital. It is also the capital of Cameroon's Littoral Region. Home to Central Africa's largest port and its major international airport, Douala International Airport (DLA), it is the commercial and economic capital of Cameroon and the entire CEMAC region comprising Gabon, Congo, Chad, Equatorial Guinea, Central African Republic and Cameroon. Consequently, it handles most of the country's major exports, such as oil, cocoa and coffee, timber, metals and fruits. As from 2018, the city and its surrounding area had an estimated population of 2,768,400. The city sits on the estuary of Wouri River and its climate is tropical.\n\n#### Opening of Hotel/Restaurant Shop Coming down to business problem,\nI would like to open a hotel/restaurant near beach side.As it is a famous tourist spot,there is already lots of attention towards it.I know there will be many competitors in terms of hotel and restauramt.But keeping them in mind,i need to locate my hotel in place where more people are attracted and comfortable for a stay and a good meal.I want to bring foreign and local peoples attention towards my new hotel.I would like to flavour my retaurant recipe with Italian,American,typical cameroonian delicacies to grab their taste.\n\nThe challenge is to find a suitable location for opening a new hotel / restaurant attracted to all local and foreign people in the centre of all famous venues.\n\nExpected / Interested Audience 75% local and 25% foreign people visit Douala once in a year.Some people stay for couple of days or more.Also they find some place for hangout or a good meal.Their main focus might be belonging to stay somewhere near to reach venues.Apart from these set of people,students and working professionals are common audience here.So we may need to fascinate them all.\n\n## 2.Data section\n### 2.a What data is used?\nWe will be completely working on Foursquare data to explore and try to locate our new hotel where more venues like church, sports centers, beach, museums,shopping centers, memorials that are present nearby.\n\nHow will we be solving using this data?\n\nWe will looking for midpoint area of venues to locate our new hotel.Before that our major focus will be on all venues present in and around the core place of Douala.\n\nJust a heads up on how many hotels are distributed now around Douala.We will perform some EDA on hotels & restaurants present in the tourist spot.On furthur notebook we will use Foursquare data to determine other venues as well.",
      "metadata": {}
    },
    {
      "cell_type": "markdown",
      "source": "### 2.b Importing Libraries",
      "metadata": {}
    },
    {
      "cell_type": "code",
      "source": "# Import libraries\nimport numpy as np # data in a vectorized manner manipulation\nimport pandas as pd # data analsysis\nimport requests # HTTP library\nfrom bs4 import BeautifulSoup # scraping library\n\nfrom pandas.io.json import json_normalize # tranform JSON file into a pandas dataframe\nimport json # JSON files manipulation\n\nfrom sklearn.cluster import KMeans # clustering algorithm\n\npd.set_option('display.max_columns', None)\npd.set_option('display.max_rows', None)\n\n# Matplotlib and associated plotting modules\nimport matplotlib.cm as cm\nimport matplotlib.colors as colors\nimport matplotlib.pyplot as plt\n\n#!conda install -c conda-forge geopy --yes \n#from geopy.geocoders import Nominatim\n\n#!conda install -c conda-forge folium=0.5.0 --yes\n#import folium # map rendering library\n\nprint(\"*********   Loaded library     ***********\")",
      "metadata": {
        "trusted": true
      },
      "execution_count": 19,
      "outputs": [
        {
          "text": "*********   Loaded library     ***********\n",
          "name": "stdout",
          "output_type": "stream"
        }
      ]
    },
    {
      "cell_type": "markdown",
      "source": "### 2.c Credentials and Core location",
      "metadata": {}
    },
    {
      "cell_type": "code",
      "source": "CLIENT_ID = 'ZIE5HF11UKWBNY4AXE452PZPMLKP1ODRGF44BPKAW2GBBIU2' # your Foursquare ID\nCLIENT_SECRET = 'DGFZTAC1FE5IT0WFQYWCJBACB2O2EGGXPBQRKA52X1WHDARP' # your Foursquare Secret\nVERSION = '20180605' # Foursquare API version\nLIMIT = 100\n\naddress = \"Douala, Cameroon\"\n\ngeolocator = Nominatim(user_agent=\"foursquare_agent\")\nlocation = geolocator.geocode(address)\nlatitude =location.latitude   #4.0511 # location.latitude \nlongitude =location.longitude #9.7679 # location.longitude # \n\ndla='Douala location : {},{}'.format(latitude,longitude)\nprint(dla)",
      "metadata": {
        "trusted": true
      },
      "execution_count": 5,
      "outputs": [
        {
          "text": "Douala location : 4.0429408,9.706203\n",
          "name": "stdout",
          "output_type": "stream"
        }
      ]
    },
    {
      "cell_type": "markdown",
      "source": "### 2.d Search for hotel & restaurant within 1 KM",
      "metadata": {}
    },
    {
      "cell_type": "code",
      "source": "# Quering for hotel & restaurant\n\nsearch_query = 'hotel'\nsearch_query_res = 'restaurant'\n\nradius = 2000\nurl_hotel = 'https://api.foursquare.com/v2/venues/search?client_id={}&client_secret={}&ll={},{}&v={}&query={}&radius={}&limit={}'.format(CLIENT_ID, CLIENT_SECRET, latitude, longitude, VERSION, search_query, radius, LIMIT)\nurl_restaurant = 'https://api.foursquare.com/v2/venues/search?client_id={}&client_secret={}&ll={},{}&v={}&query={}&radius={}&limit={}'.format(CLIENT_ID, CLIENT_SECRET, latitude, longitude, VERSION, search_query_res, radius, LIMIT)\n#url",
      "metadata": {
        "trusted": true
      },
      "execution_count": 6,
      "outputs": []
    },
    {
      "cell_type": "markdown",
      "source": "#### Send the GET Request of hotel & restaurants and examine the results",
      "metadata": {}
    },
    {
      "cell_type": "code",
      "source": "results_hotel = requests.get(url_hotel).json()\nresults_restaurant = requests.get(url_restaurant).json()\n#results_hotel",
      "metadata": {
        "trusted": true
      },
      "execution_count": 7,
      "outputs": []
    },
    {
      "cell_type": "markdown",
      "source": "#### Get relevant part of JSON and transform it into a pandas dataframe",
      "metadata": {}
    },
    {
      "cell_type": "code",
      "source": "# assign relevant part of JSON to venues\nvenues_hotel = results_hotel['response']['venues']\nvenues_restaurant = results_restaurant['response']['venues']\n\n# tranform venues into a dataframe and merging both data\ndataframe_hotel = json_normalize(venues_hotel)\ndataframe_restaurant = json_normalize(venues_restaurant)\n\ndataframe = pd.concat([dataframe_hotel,dataframe_restaurant])\n\nprint(\"There are {} restaurants and hotels at Douala\".format(dataframe.shape[0]))",
      "metadata": {
        "trusted": true
      },
      "execution_count": 8,
      "outputs": [
        {
          "text": "There are 80 restaurants and hotels at Douala\n",
          "name": "stdout",
          "output_type": "stream"
        }
      ]
    },
    {
      "cell_type": "markdown",
      "source": "#### Define information of interest and filter dataframe",
      "metadata": {}
    },
    {
      "cell_type": "code",
      "source": "# keep only columns that include venue name, and anything that is associated with location\nfiltered_columns = ['name', 'categories'] + [col for col in dataframe.columns if col.startswith('location.')] + ['id']\ndataframe_filtered = dataframe.loc[:, filtered_columns]\n\n# function that extracts the category of the venue\n\ndef get_category_type(row):\n    try:\n        categories_list = row['categories']\n    except:\n        categories_list = row['venue.categories']\n        \n    if len(categories_list) == 0:\n        return None\n    else:\n        return categories_list[0]['name']\n\n    \n# filter the category for each row\ndataframe_filtered['categories'] = dataframe_filtered.apply(get_category_type, axis=1)\n\n  \n# clean column names by keeping only last term\ndataframe_filtered.columns = [column.split('.')[-1] for column in dataframe_filtered.columns]\n\n#dataframe_filtered\nhotels_df=dataframe_filtered[['name','categories','distance','lat','lng','id']]\nhotels_df.head(5)",
      "metadata": {
        "trusted": true
      },
      "execution_count": 21,
      "outputs": [
        {
          "execution_count": 21,
          "output_type": "execute_result",
          "data": {
            "text/html": "<div>\n<style scoped>\n    .dataframe tbody tr th:only-of-type {\n        vertical-align: middle;\n    }\n\n    .dataframe tbody tr th {\n        vertical-align: top;\n    }\n\n    .dataframe thead th {\n        text-align: right;\n    }\n</style>\n<table border=\"1\" class=\"dataframe\">\n  <thead>\n    <tr style=\"text-align: right;\">\n      <th></th>\n      <th>name</th>\n      <th>categories</th>\n      <th>distance</th>\n      <th>lat</th>\n      <th>lng</th>\n      <th>id</th>\n    </tr>\n  </thead>\n  <tbody>\n    <tr>\n      <th>0</th>\n      <td>Hôtel Douala Bar</td>\n      <td>Hotel</td>\n      <td>827</td>\n      <td>4.046795</td>\n      <td>9.699835</td>\n      <td>5156270ce4b00bf3a1bf5366</td>\n    </tr>\n    <tr>\n      <th>1</th>\n      <td>Hotel Lewat</td>\n      <td>Hotel</td>\n      <td>1617</td>\n      <td>4.057222</td>\n      <td>9.708896</td>\n      <td>50aea659e4b0f706cec130d2</td>\n    </tr>\n    <tr>\n      <th>2</th>\n      <td>Hotel La Falaise</td>\n      <td>Hotel</td>\n      <td>1505</td>\n      <td>4.046752</td>\n      <td>9.693191</td>\n      <td>4f0510bf77c8f87cd11c7123</td>\n    </tr>\n    <tr>\n      <th>3</th>\n      <td>Hôtel Beau Séjour</td>\n      <td>Resort</td>\n      <td>1578</td>\n      <td>4.050212</td>\n      <td>9.694002</td>\n      <td>52a8b0ec498ec9879bc84f5b</td>\n    </tr>\n    <tr>\n      <th>4</th>\n      <td>Hotel Noubou</td>\n      <td>Boarding House</td>\n      <td>241</td>\n      <td>4.045108</td>\n      <td>9.706340</td>\n      <td>58a44be704f4d741ec27c969</td>\n    </tr>\n  </tbody>\n</table>\n</div>",
            "text/plain": "                name      categories  distance       lat       lng  \\\n0   Hôtel Douala Bar           Hotel       827  4.046795  9.699835   \n1        Hotel Lewat           Hotel      1617  4.057222  9.708896   \n2   Hotel La Falaise           Hotel      1505  4.046752  9.693191   \n3  Hôtel Beau Séjour          Resort      1578  4.050212  9.694002   \n4       Hotel Noubou  Boarding House       241  4.045108  9.706340   \n\n                         id  \n0  5156270ce4b00bf3a1bf5366  \n1  50aea659e4b0f706cec130d2  \n2  4f0510bf77c8f87cd11c7123  \n3  52a8b0ec498ec9879bc84f5b  \n4  58a44be704f4d741ec27c969  "
          },
          "metadata": {}
        }
      ]
    },
    {
      "cell_type": "code",
      "source": "hotels_df.tail(5)",
      "metadata": {
        "trusted": true
      },
      "execution_count": 22,
      "outputs": [
        {
          "execution_count": 22,
          "output_type": "execute_result",
          "data": {
            "text/html": "<div>\n<style scoped>\n    .dataframe tbody tr th:only-of-type {\n        vertical-align: middle;\n    }\n\n    .dataframe tbody tr th {\n        vertical-align: top;\n    }\n\n    .dataframe thead th {\n        text-align: right;\n    }\n</style>\n<table border=\"1\" class=\"dataframe\">\n  <thead>\n    <tr style=\"text-align: right;\">\n      <th></th>\n      <th>name</th>\n      <th>categories</th>\n      <th>distance</th>\n      <th>lat</th>\n      <th>lng</th>\n      <th>id</th>\n    </tr>\n  </thead>\n  <tbody>\n    <tr>\n      <th>45</th>\n      <td>shinlong restaurant chinoix bonapriso</td>\n      <td>Chinese Restaurant</td>\n      <td>2119</td>\n      <td>4.024795</td>\n      <td>9.700438</td>\n      <td>5467be8b498eb46210dfbf7f</td>\n    </tr>\n    <tr>\n      <th>46</th>\n      <td>la cour Restaurant</td>\n      <td>American Restaurant</td>\n      <td>2316</td>\n      <td>4.022279</td>\n      <td>9.703748</td>\n      <td>52fe162111d220fa2f63e0f8</td>\n    </tr>\n    <tr>\n      <th>47</th>\n      <td>Africa Lounge Restaurant</td>\n      <td>Restaurant</td>\n      <td>2386</td>\n      <td>4.022019</td>\n      <td>9.701495</td>\n      <td>58ee2548e309e128640b36dc</td>\n    </tr>\n    <tr>\n      <th>48</th>\n      <td>Harda West End</td>\n      <td>African Restaurant</td>\n      <td>1513</td>\n      <td>4.055093</td>\n      <td>9.700096</td>\n      <td>53469593498edd8d3cf21938</td>\n    </tr>\n    <tr>\n      <th>49</th>\n      <td>La Formule Provençale</td>\n      <td>African Restaurant</td>\n      <td>2163</td>\n      <td>4.039007</td>\n      <td>9.687125</td>\n      <td>501bb7e5e4b01e9e7186e7ab</td>\n    </tr>\n  </tbody>\n</table>\n</div>",
            "text/plain": "                                     name           categories  distance  \\\n45  shinlong restaurant chinoix bonapriso   Chinese Restaurant      2119   \n46                     la cour Restaurant  American Restaurant      2316   \n47               Africa Lounge Restaurant           Restaurant      2386   \n48                         Harda West End   African Restaurant      1513   \n49                  La Formule Provençale   African Restaurant      2163   \n\n         lat       lng                        id  \n45  4.024795  9.700438  5467be8b498eb46210dfbf7f  \n46  4.022279  9.703748  52fe162111d220fa2f63e0f8  \n47  4.022019  9.701495  58ee2548e309e128640b36dc  \n48  4.055093  9.700096  53469593498edd8d3cf21938  \n49  4.039007  9.687125  501bb7e5e4b01e9e7186e7ab  "
          },
          "metadata": {}
        }
      ]
    },
    {
      "cell_type": "markdown",
      "source": "#### 2.e Location of Hotels",
      "metadata": {}
    },
    {
      "cell_type": "code",
      "source": "hotels_map = folium.Map(location=[latitude, longitude], zoom_start=10) # generate map centred around the Kanyakumari\n\n# add a red circle marker to represent the core location of Douala\nfolium.features.CircleMarker(\n    [latitude, longitude],\n    radius=10,\n    color='red',\n    popup='Douala',\n    fill = True,\n    fill_color = 'red',\n    fill_opacity = 0.6\n    ).add_to(hotels_map)\n\n# add the Italian restaurants as blue circle markers\nfor lat, lng, label in zip(hotels_df.lat, hotels_df.lng, hotels_df.name):\n    folium.features.CircleMarker(\n        [lat, lng],\n        radius=5,\n        color='blue',\n        popup=label,\n        fill = True,\n        fill_color='blue',\n        fill_opacity=0.6\n    ).add_to(hotels_map)\n\n# display map\n#hotels_map",
      "metadata": {
        "trusted": true
      },
      "execution_count": 18,
      "outputs": []
    },
    {
      "cell_type": "markdown",
      "source": "## More to come in next notebook- \"Battle of Neighbourhoods - Final\"",
      "metadata": {}
    },
    {
      "cell_type": "code",
      "source": "",
      "metadata": {},
      "execution_count": null,
      "outputs": []
    }
  ]
}